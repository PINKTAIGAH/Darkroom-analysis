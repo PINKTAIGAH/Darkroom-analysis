{
 "cells": [
  {
   "cell_type": "markdown",
   "metadata": {},
   "source": [
    "# **Xray Irradiation analysis**"
   ]
  },
  {
   "cell_type": "code",
   "execution_count": null,
   "metadata": {},
   "outputs": [],
   "source": [
    "import numpy as np\n",
    "import matplotlib.pyplot as plt\n",
    "from scipy.optimize import curve_fit\n",
    "from utils import *"
   ]
  },
  {
   "cell_type": "markdown",
   "metadata": {},
   "source": [
    "## **Notebook constants**"
   ]
  },
  {
   "cell_type": "code",
   "execution_count": null,
   "metadata": {},
   "outputs": [],
   "source": [
    "PLOT_RANGES = True\n",
    "xray_intensity = [(i+1)*10 -10 for i in range(0,8)]\n",
    "xray_linearity_intensity = [0, 50, 200, 400, 600, 800, 1000]\n",
    "xray_linearity_intensity = [0, 50, 200, 400, 600, 800, 1000]\n",
    "xray_intensity_short = [0, 10, 30, 50, 70]\n",
    "xray_intensity_continous = np.linspace(0, 70, 1000)\n",
    "\n",
    "DATA_DIRECTORY = \"/Users/giorgio/Data/Darkroom/\""
   ]
  },
  {
   "cell_type": "markdown",
   "metadata": {},
   "source": [
    "## **Current vs Xray intensity @ 50V**\n",
    "\n",
    "### 183 (00)"
   ]
  },
  {
   "cell_type": "code",
   "execution_count": null,
   "metadata": {},
   "outputs": [],
   "source": [
    "run17_filedir = DATA_DIRECTORY + \"Eris_run017.txt\"\n",
    "\n",
    "time, voltage, mean_current, mean_current_err = load_data(run17_filedir)\n",
    "\n",
    "base_idx = (141, 500)\n",
    "xray_idx = [\n",
    "    (141, 500), (650, 800), (830, 1500), (1630, 2850), (2966, 3850), (4062, 5380), (5475, 5842), (5900, 6125),\n",
    "]\n",
    "\n",
    "xray_curr_183_50v, xray_curr_err_183_50v = process_current_intensity(time, mean_current, mean_current_err, base_idx, xray_idx, scaling_param=1e9)\n",
    "\n",
    "if PLOT_RANGES:\n",
    "    plot_intensity_ranges(time, mean_current, base_idx, xray_idx)"
   ]
  },
  {
   "cell_type": "markdown",
   "metadata": {},
   "source": [
    "### 182 (10)"
   ]
  },
  {
   "cell_type": "code",
   "execution_count": null,
   "metadata": {},
   "outputs": [],
   "source": [
    "run18_filedir = DATA_DIRECTORY + \"Eris_run018.txt\"\n",
    "\n",
    "time, voltage, mean_current, mean_current_err = load_data(run18_filedir)\n",
    "\n",
    "base_idx = (10, 110)\n",
    "xray_idx = [\n",
    "    (10, 110), (493, 951), (1546, 2343), (2968, 3381), (4148, 5089), (5402, 6137), (6445, 6880), (7543, 8700),\n",
    "]\n",
    "\n",
    "xray_curr_182_50v, xray_curr_err_182_50v = process_current_intensity(time, mean_current, mean_current_err, base_idx, xray_idx, scaling_param=1e9)\n",
    "\n",
    "if PLOT_RANGES:\n",
    "    plot_intensity_ranges(time, mean_current, base_idx, xray_idx)"
   ]
  },
  {
   "cell_type": "markdown",
   "metadata": {},
   "source": [
    "### 171 (01)"
   ]
  },
  {
   "cell_type": "code",
   "execution_count": null,
   "metadata": {},
   "outputs": [],
   "source": [
    "run19_filedir = DATA_DIRECTORY + \"Eris_run019.txt\"\n",
    "\n",
    "time, voltage, mean_current, mean_current_err = load_data(run19_filedir)\n",
    "\n",
    "base_idx = (63, 106)\n",
    "xray_idx = [\n",
    "    (63, 106), (508, 759), (1014, 1351), (1650, 2381), (2451, 2784), (3135, 3503), (3655, 4134), (4221, 4650),\n",
    "]\n",
    "\n",
    "xray_curr_171_50v, xray_curr_err_171_50v = process_current_intensity(time, mean_current, mean_current_err, base_idx, xray_idx, scaling_param=1e9)\n",
    "\n",
    "if PLOT_RANGES:\n",
    "    plot_intensity_ranges(time, mean_current, base_idx, xray_idx)"
   ]
  },
  {
   "cell_type": "markdown",
   "metadata": {},
   "source": [
    "### 178 (11)"
   ]
  },
  {
   "cell_type": "code",
   "execution_count": null,
   "metadata": {},
   "outputs": [],
   "source": [
    "run20_filedir = DATA_DIRECTORY + \"Eris_run020.txt\"\n",
    "\n",
    "time, voltage, mean_current, mean_current_err = load_data(run20_filedir)\n",
    "\n",
    "base_idx = (0, 50)\n",
    "xray_idx = [\n",
    "    (0, 50), (228, 603), (709, 1151), (1324, 1490),\n",
    "]\n",
    "\n",
    "xray_curr_178_50v, xray_curr_err_178_50v = process_current_intensity(time, mean_current, mean_current_err, base_idx, xray_idx,)\n",
    "\n",
    "if PLOT_RANGES:\n",
    "    plot_intensity_ranges(time, mean_current, base_idx, xray_idx)"
   ]
  },
  {
   "cell_type": "code",
   "execution_count": null,
   "metadata": {},
   "outputs": [],
   "source": [
    "run21_filedir = DATA_DIRECTORY + \"Eris_run021.txt\"\n",
    "\n",
    "time, voltage, mean_current, mean_current_err = load_data(run21_filedir)\n",
    "\n",
    "base_idx = (76, 126)\n",
    "xray_idx = [\n",
    "    (508, 870), (920, 1100), (1210, 1545), (1687, 2890)\n",
    "]\n",
    "\n",
    "xray_curr_178_50v, xray_curr_err_178_50v = process_current_intensity(\n",
    "    time, mean_current, mean_current_err, base_idx, xray_idx, xray_curr=xray_curr_178_50v, xray_curr_err=xray_curr_err_178_50v, scaling_param=1e9\n",
    ")\n",
    "\n",
    "if PLOT_RANGES:\n",
    "    plot_intensity_ranges(time, mean_current, base_idx, xray_idx)"
   ]
  },
  {
   "cell_type": "markdown",
   "metadata": {},
   "source": [
    "## **Current vs Xray intensity @ 200V**\n",
    "\n",
    "### 183(00)"
   ]
  },
  {
   "cell_type": "code",
   "execution_count": null,
   "metadata": {},
   "outputs": [],
   "source": [
    "run24_filedir = DATA_DIRECTORY + \"Eris_run024.txt\"\n",
    "\n",
    "time, voltage, mean_current, mean_current_err = load_data(run24_filedir)\n",
    "\n",
    "base_idx = (3, 55)\n",
    "xray_idx = [\n",
    "   (3, 55), (320, 715), (830, 970), (1050, 1350), (1720, 2100), (2900, 3150), (3300, 3550), (3650, 4100),\n",
    "]\n",
    "\n",
    "xray_curr_183_200v, xray_curr_err_183_200v = process_current_intensity(\n",
    "    time, mean_current, mean_current_err, base_idx, xray_idx, scaling_param=1e9 \n",
    ")\n",
    "\n",
    "if PLOT_RANGES:\n",
    "    plot_intensity_ranges(time, mean_current, base_idx, xray_idx)"
   ]
  },
  {
   "cell_type": "markdown",
   "metadata": {},
   "source": [
    "### 182 (10)"
   ]
  },
  {
   "cell_type": "code",
   "execution_count": null,
   "metadata": {},
   "outputs": [],
   "source": [
    "run25_filedir = DATA_DIRECTORY + \"Eris_run025.txt\"\n",
    "\n",
    "time, voltage, mean_current, mean_current_err = load_data(run25_filedir)\n",
    "\n",
    "base_idx = (3, 55)\n",
    "xray_idx = [\n",
    "    (3, 55), (210, 330), (400, 1000), (1200, 1500), (1650, 1980), (2100, 2350), (2450, 2650), (2700, 2950),\n",
    "]\n",
    "\n",
    "xray_curr_182_200v, xray_curr_err_182_200v = process_current_intensity(\n",
    "    time, mean_current, mean_current_err, base_idx, xray_idx,  scaling_param=1e9\n",
    ")\n",
    "\n",
    "if PLOT_RANGES:\n",
    "    plot_intensity_ranges(time, mean_current, base_idx, xray_idx)"
   ]
  },
  {
   "cell_type": "markdown",
   "metadata": {},
   "source": [
    "### 171 (01)"
   ]
  },
  {
   "cell_type": "code",
   "execution_count": null,
   "metadata": {},
   "outputs": [],
   "source": [
    "run23_filedir = DATA_DIRECTORY + \"Eris_run023.txt\"\n",
    "\n",
    "time, voltage, mean_current, mean_current_err = load_data(run23_filedir)\n",
    "\n",
    "base_idx = (3, 30)\n",
    "xray_idx = [\n",
    "    (3, 30), (320, 915), (1550, 2400), (3060, 3750), (4100, 4750), (4810, 5300), (6900, 7600), (7750, 8300),\n",
    "]\n",
    "\n",
    "xray_curr_171_200v, xray_curr_err_171_200v = process_current_intensity(\n",
    "    time, mean_current, mean_current_err, base_idx, xray_idx,  scaling_param=1e9\n",
    ")\n",
    "\n",
    "if PLOT_RANGES:\n",
    "    plot_intensity_ranges(time, mean_current, base_idx, xray_idx)"
   ]
  },
  {
   "cell_type": "markdown",
   "metadata": {},
   "source": [
    "### 178 (11)"
   ]
  },
  {
   "cell_type": "code",
   "execution_count": null,
   "metadata": {},
   "outputs": [],
   "source": [
    "run22_filedir = DATA_DIRECTORY + \"Eris_run022.txt\"\n",
    "\n",
    "time, voltage, mean_current, mean_current_err = load_data(run22_filedir)\n",
    "\n",
    "base_idx = (1500, 3600)\n",
    "xray_idx = [\n",
    "    (1500, 3600), (4598, 6626), (6900, 7300), (7800, 9100), (9200, 9551), (9800, 10230), (10500, 11200), (11230, 11600),\n",
    "]\n",
    "\n",
    "xray_curr_178_200v, xray_curr_err_178_200v = process_current_intensity(\n",
    "    time, mean_current, mean_current_err, base_idx, xray_idx, scaling_param=1e9 \n",
    ")\n",
    "\n",
    "if PLOT_RANGES:\n",
    "    plot_intensity_ranges(time, mean_current, base_idx, xray_idx)"
   ]
  },
  {
   "cell_type": "markdown",
   "metadata": {},
   "source": [
    "## **current vs xray intensity @ 1000v**\n",
    "\n",
    "### 183 (00)"
   ]
  },
  {
   "cell_type": "code",
   "execution_count": null,
   "metadata": {},
   "outputs": [],
   "source": [
    "run26_filedir = DATA_DIRECTORY + \"Eris_run026.txt\"\n",
    "\n",
    "time, voltage, mean_current, mean_current_err = load_data(run26_filedir)\n",
    "\n",
    "base_idx = (3, 55)\n",
    "xray_idx = [\n",
    "    (3, 55), (120, 180), (300, 490), (650, 750), (800, 905),\n",
    "]\n",
    "\n",
    "xray_curr_183_1000v, xray_curr_err_183_1000v = process_current_intensity(\n",
    "    time, mean_current, mean_current_err, base_idx, xray_idx, scaling_param=1e9 \n",
    ")\n",
    "\n",
    "if PLOT_RANGES:\n",
    "    plot_intensity_ranges(time, mean_current, base_idx, xray_idx)"
   ]
  },
  {
   "cell_type": "markdown",
   "metadata": {},
   "source": [
    "### 171 (01)"
   ]
  },
  {
   "cell_type": "code",
   "execution_count": null,
   "metadata": {},
   "outputs": [],
   "source": [
    "run27_filedir = DATA_DIRECTORY + \"Eris_run027.txt\"\n",
    "\n",
    "time, voltage, mean_current, mean_current_err = load_data(run27_filedir)\n",
    "\n",
    "base_idx = (3, 55)\n",
    "xray_idx = [\n",
    "    (3, 55), (170, 470), (520, 680), (700, 980), (1000, 1190),\n",
    "]\n",
    "\n",
    "xray_curr_171_1000v, xray_curr_err_171_1000v = process_current_intensity(\n",
    "    time, mean_current, mean_current_err, base_idx, xray_idx, scaling_param=1e9 \n",
    ")\n",
    "\n",
    "if PLOT_RANGES:\n",
    "    plot_intensity_ranges(time, mean_current, base_idx, xray_idx)"
   ]
  },
  {
   "cell_type": "markdown",
   "metadata": {},
   "source": [
    "### 178 (11)"
   ]
  },
  {
   "cell_type": "code",
   "execution_count": null,
   "metadata": {},
   "outputs": [],
   "source": [
    "run35_filedir = DATA_DIRECTORY + \"Eris_run035.txt\"\n",
    "\n",
    "time, voltage, mean_current, mean_current_err = load_data(run35_filedir)\n",
    "\n",
    "base_idx = (383, 1071)\n",
    "xray_idx = ( (383, 1071), (1179, 1776), (1964, 2539), (2720, 3249), (3545, 4603), )\n",
    "    \n",
    "xray_curr_178_1000v, xray_curr_err_178_1000v = process_current_intensity(\n",
    "    time, mean_current, mean_current_err, base_idx, xray_idx, scaling_param=1e9 \n",
    ")\n",
    "\n",
    "if PLOT_RANGES:\n",
    "    plot_intensity_ranges(time, mean_current, base_idx, xray_idx)"
   ]
  },
  {
   "cell_type": "markdown",
   "metadata": {},
   "source": [
    "### 182 (10)"
   ]
  },
  {
   "cell_type": "code",
   "execution_count": null,
   "metadata": {},
   "outputs": [],
   "source": [
    "run34_filedir = DATA_DIRECTORY + \"Eris_run034.txt\"\n",
    "\n",
    "time, voltage, mean_current, mean_current_err = load_data(run34_filedir)\n",
    "\n",
    "base_idx = (150, 413)\n",
    "xray_idx = (\n",
    "    (150, 413), \n",
    "    (466, 699),\n",
    "    (886, 1235), \n",
    "    (1442, 1831), \n",
    "    (1949, 2525), \n",
    ")\n",
    "\n",
    "xray_curr_182_1000v, xray_curr_err_182_1000v = process_current_intensity(\n",
    "    time, mean_current, mean_current_err, base_idx, xray_idx, scaling_param=1e9 \n",
    ")\n",
    "\n",
    "if PLOT_RANGES:\n",
    "    plot_intensity_ranges(time, mean_current, base_idx, xray_idx)"
   ]
  },
  {
   "cell_type": "markdown",
   "metadata": {},
   "source": [
    "## **Current vs xray intensity @ -1000v**\n",
    "\n",
    "### 183 (00)"
   ]
  },
  {
   "cell_type": "code",
   "execution_count": null,
   "metadata": {},
   "outputs": [],
   "source": [
    "run36_filedir = DATA_DIRECTORY + \"Eris_run036.txt\"\n",
    "\n",
    "time, voltage, mean_current, mean_current_err = load_data(run36_filedir)\n",
    "\n",
    "base_idx =  (396, 507)\n",
    "xray_idx = ((396, 507), (522, 701), (799, 1107), (1242, 1620), (1793, 2428), )\n",
    "\n",
    "xray_curr_183_neg_1000v, xray_curr_err_183_neg_1000v = process_current_intensity(\n",
    "    time, mean_current, mean_current_err, base_idx, xray_idx, scaling_param=1e9 \n",
    ")\n",
    "\n",
    "if PLOT_RANGES:\n",
    "    plot_intensity_ranges(time, mean_current, base_idx, xray_idx)"
   ]
  },
  {
   "cell_type": "markdown",
   "metadata": {},
   "source": [
    "### 171 (01)"
   ]
  },
  {
   "cell_type": "code",
   "execution_count": null,
   "metadata": {},
   "outputs": [],
   "source": [
    "run37_filedir = DATA_DIRECTORY + \"Eris_run037.txt\"\n",
    "\n",
    "time, voltage, mean_current, mean_current_err = load_data(run37_filedir)\n",
    "\n",
    "base_idx = (127, 532)\n",
    "xray_idx = ( (127, 532), (601, 964), (1317, 1859), (2196, 2823), (3165, 3997), )\n",
    "    \n",
    "xray_curr_171_neg_1000v, xray_curr_err_171_neg_1000v = process_current_intensity(\n",
    "    time, mean_current, mean_current_err, base_idx, xray_idx, scaling_param=1e9 \n",
    ")\n",
    "\n",
    "if PLOT_RANGES:\n",
    "    plot_intensity_ranges(time, mean_current, base_idx, xray_idx)"
   ]
  },
  {
   "cell_type": "markdown",
   "metadata": {},
   "source": [
    "## **Xray irradiation vs HV**\n",
    "\n",
    "### 171 (01)"
   ]
  },
  {
   "cell_type": "code",
   "execution_count": null,
   "metadata": {},
   "outputs": [],
   "source": [
    "\n",
    "run28_filedir = DATA_DIRECTORY + \"Eris_run028.txt\"\n",
    "\n",
    "time, voltage, mean_current, mean_current_err = load_data(run28_filedir)\n",
    "\n",
    "voltage_idx = ( \n",
    "    (277, 356, 953, 1424), \n",
    "    (1557, 1658, 1714, 2568), \n",
    "    (2750, 2850, 2946, 3843), \n",
    "    (4914, 6451, 6615, -1),\n",
    ") \n",
    "\n",
    "baseline_xray_curr_171_hv_linearity, baseline_xray_curr_err_171_hv_linearity, delta_xray_curr_171_hv_linearity, delta_xray_curr_err_171_hv_linearity = process_current_irradiation(\n",
    "    time, mean_current, mean_current_err, voltage_idx, use_abs=True,\n",
    ")\n",
    "\n",
    "if PLOT_RANGES:\n",
    "    plot_irradiation_ranges(time, mean_current, voltage_idx)"
   ]
  },
  {
   "cell_type": "code",
   "execution_count": null,
   "metadata": {},
   "outputs": [],
   "source": [
    "\n",
    "run29_filedir = DATA_DIRECTORY + \"Eris_run029.txt\"\n",
    "\n",
    "time, voltage, mean_current, mean_current_err = load_data(run29_filedir)\n",
    "\n",
    "voltage_idx = ( \n",
    "    (286, 619, 703, 1905), \n",
    "    (2032, 2438, 2540, 3375), \n",
    "    (3576, 3853, 3981, 4869), \n",
    ")\n",
    "\n",
    "baseline_xray_curr_171_hv_linearity, baseline_xray_curr_err_171_hv_linearity, delta_xray_curr_171_hv_linearity, delta_xray_curr_err_171_hv_linearity = process_current_irradiation(\n",
    "    time, mean_current, mean_current_err, voltage_idx, use_abs=True, baseline_curr_hv_linearity=baseline_xray_curr_171_hv_linearity,\n",
    "    baseline_curr_err_hv_linearity=baseline_xray_curr_err_171_hv_linearity, delta_curr_hv_linearity=delta_xray_curr_171_hv_linearity,\n",
    "    delta_curr_err_hv_linearity=delta_xray_curr_err_171_hv_linearity, scaling_param=1e9\n",
    ")\n",
    "\n",
    "if PLOT_RANGES:\n",
    "    plot_irradiation_ranges(time, mean_current, voltage_idx)"
   ]
  },
  {
   "cell_type": "markdown",
   "metadata": {},
   "source": [
    "### 178 (11)"
   ]
  },
  {
   "cell_type": "code",
   "execution_count": null,
   "metadata": {},
   "outputs": [],
   "source": [
    "run30_filedir = DATA_DIRECTORY + \"Eris_run030.txt\" \n",
    "\n",
    "time, voltage, mean_current, mean_current_err = load_data(run30_filedir)\n",
    "\n",
    "voltage_idx = ( \n",
    "    (12, 185, 215, 574), \n",
    "    (890, 941, 1220, 2847), \n",
    "    (2980, 3063, 3133, 3464), \n",
    "    (3645, 3861, 3896, 4777), \n",
    "    (4968, 5263, 5548, 9958), \n",
    ")\n",
    "\n",
    "baseline_xray_curr_178_hv_linearity, baseline_xray_curr_err_178_hv_linearity, delta_xray_curr_178_hv_linearity, delta_xray_curr_err_178_hv_linearity = process_current_irradiation(\n",
    "    time, mean_current, mean_current_err, voltage_idx, use_abs=True,\n",
    ")\n",
    "\n",
    "if PLOT_RANGES:\n",
    "    plot_irradiation_ranges(time, mean_current, voltage_idx)"
   ]
  },
  {
   "cell_type": "code",
   "execution_count": null,
   "metadata": {},
   "outputs": [],
   "source": [
    "run31_filedir = DATA_DIRECTORY + \"Eris_run031.txt\"\n",
    "\n",
    "time, voltage, mean_current, mean_current_err = load_data(run31_filedir)\n",
    "\n",
    "voltage_idx = ( \n",
    "    (621, 994, 1217, 3895), \n",
    "    (5038, 8617, 9001, 11527), \n",
    ")\n",
    "\n",
    "baseline_xray_curr_178_hv_linearity, baseline_xray_curr_err_178_hv_linearity, delta_xray_curr_178_hv_linearity, delta_xray_curr_err_178_hv_linearity = process_current_irradiation(\n",
    "    time, mean_current, mean_current_err, voltage_idx, use_abs=True, baseline_curr_hv_linearity=baseline_xray_curr_178_hv_linearity,\n",
    "    baseline_curr_err_hv_linearity=baseline_xray_curr_err_178_hv_linearity, delta_curr_hv_linearity=delta_xray_curr_178_hv_linearity,\n",
    "    delta_curr_err_hv_linearity=delta_xray_curr_err_178_hv_linearity, scaling_param=1e9\n",
    ")\n",
    "\n",
    "if PLOT_RANGES:\n",
    "    plot_irradiation_ranges(time, mean_current, voltage_idx)"
   ]
  },
  {
   "cell_type": "markdown",
   "metadata": {},
   "source": [
    "### 183 (00)"
   ]
  },
  {
   "cell_type": "code",
   "execution_count": null,
   "metadata": {},
   "outputs": [],
   "source": [
    "run32_filedir = DATA_DIRECTORY + \"Eris_run032.txt\" \n",
    "\n",
    "time, voltage, mean_current, mean_current_err = load_data(run32_filedir)\n",
    "\n",
    "voltage_idx = ( \n",
    "    (4, 69, 85, 389), \n",
    "    (432, 480, 489, 1253), \n",
    "    (1394, 1478, 1546, 3029), \n",
    "    (3403, 3935, 4160, 5229), \n",
    "    (5972, 6470, 6585, 7211), \n",
    "    (7653, 7868, 8089, 9116), \n",
    "    (9420, 9672, 9835, 10808), \n",
    ")\n",
    "\n",
    "baseline_xray_curr_183_hv_linearity, baseline_xray_curr_err_183_hv_linearity, delta_xray_curr_183_hv_linearity, delta_xray_curr_err_183_hv_linearity = process_current_irradiation(\n",
    "    time, mean_current, mean_current_err, voltage_idx, use_abs=True, scaling_param=1e9\n",
    ")\n",
    "\n",
    "if PLOT_RANGES:\n",
    "    plot_irradiation_ranges(time, mean_current, voltage_idx)"
   ]
  },
  {
   "cell_type": "markdown",
   "metadata": {},
   "source": [
    "### 182 (10)"
   ]
  },
  {
   "cell_type": "code",
   "execution_count": null,
   "metadata": {},
   "outputs": [],
   "source": [
    "run33_filedir = DATA_DIRECTORY + \"Eris_run033.txt\" \n",
    "\n",
    "time, voltage, mean_current, mean_current_err = load_data(run33_filedir)\n",
    "\n",
    "voltage_idx = ( \n",
    "    (3, 64, 80, 734), \n",
    "    (855, 976, 1011, 1348), \n",
    "    (1836, 2199, 2255, 2480), \n",
    "    (2908, 3093, 3145, 3512), \n",
    "    (3759, 4199, 4273, 4610), \n",
    "    (4869, 4956, 5020, 5344), \n",
    "    (5569, 5725, 5807, 6636), \n",
    ")\n",
    "\n",
    "baseline_xray_curr_182_hv_linearity, baseline_xray_curr_err_182_hv_linearity, delta_xray_curr_182_hv_linearity, delta_xray_curr_err_182_hv_linearity = process_current_irradiation(\n",
    "    time, mean_current, mean_current_err, voltage_idx, use_abs=True, scaling_param=1e9\n",
    ")\n",
    "\n",
    "if PLOT_RANGES:\n",
    "    plot_irradiation_ranges(time, mean_current, voltage_idx)"
   ]
  },
  {
   "cell_type": "markdown",
   "metadata": {},
   "source": [
    "## **Xray Instensity fitting**\n",
    "\n",
    "### 183 (00) "
   ]
  },
  {
   "cell_type": "code",
   "execution_count": null,
   "metadata": {},
   "outputs": [],
   "source": [
    "intensity_183_50v, intensity_err_183_50v, fitting_param_183_50v, fitting_param_err_183_50v = hypothesis_test_xray_intensity(\n",
    "    xray_intensity, xray_curr_183_50v, xray_curr_err_183_50v\n",
    ")\n",
    "\n",
    "intensity_183_200v, intensity_err_183_200v, fitting_param_183_200v, fitting_param_err_183_200v = hypothesis_test_xray_intensity(\n",
    "    xray_intensity, xray_curr_183_200v, xray_curr_err_183_200v\n",
    ")\n",
    "\n",
    "intensity_183_1000v, intensity_err_183_1000v, fitting_param_183_1000v, fitting_param_err_183_1000v = hypothesis_test_xray_intensity(\n",
    "    xray_intensity_short, xray_curr_183_1000v, xray_curr_err_183_1000v\n",
    ")\n",
    "\n",
    "intensity_183_neg_1000v, intensity_err_183_neg_1000v, fitting_param_183_neg_1000v, fitting_param_err_183_neg_1000v = hypothesis_test_xray_intensity(\n",
    "    xray_intensity_short, xray_curr_183_neg_1000v, xray_curr_err_183_neg_1000v\n",
    ")\n",
    "\n",
    "fitted_xray_curr_183_50v = xray_current_hypothesis(xray_intensity_continous, intensity_183_50v, fitting_param_183_50v)\n",
    "fitted_xray_curr_183_200v = xray_current_hypothesis(xray_intensity_continous, intensity_183_200v, fitting_param_183_200v)\n",
    "fitted_xray_curr_183_1000v = xray_current_hypothesis(xray_intensity_continous, intensity_183_1000v, fitting_param_183_1000v)\n",
    "fitted_xray_curr_183_neg_1000v = xray_current_hypothesis(xray_intensity_continous, intensity_183_neg_1000v, fitting_param_183_neg_1000v)"
   ]
  },
  {
   "cell_type": "markdown",
   "metadata": {},
   "source": [
    "### 182 (10)"
   ]
  },
  {
   "cell_type": "code",
   "execution_count": null,
   "metadata": {},
   "outputs": [],
   "source": [
    "intensity_182_50v, intensity_err_182_50v, fitting_param_182_50v, fitting_param_err_182_50v = hypothesis_test_xray_intensity(\n",
    "    xray_intensity, xray_curr_182_50v, xray_curr_err_182_50v\n",
    ")\n",
    "\n",
    "intensity_182_200v, intensity_err_182_200v, fitting_param_182_200v, fitting_param_err_182_200v = hypothesis_test_xray_intensity(\n",
    "    xray_intensity, xray_curr_182_200v, xray_curr_err_182_200v\n",
    ")\n",
    "\n",
    "intensity_182_1000v, intensity_err_182_1000v, fitting_param_182_1000v, fitting_param_err_182_1000v = hypothesis_test_xray_intensity(\n",
    "    xray_intensity_short, xray_curr_182_1000v, xray_curr_err_182_1000v\n",
    ")\n",
    "\n",
    "fitted_xray_curr_182_50v = xray_current_hypothesis(xray_intensity_continous, intensity_182_50v, fitting_param_182_50v)\n",
    "fitted_xray_curr_182_200v = xray_current_hypothesis(xray_intensity_continous, intensity_182_200v, fitting_param_182_200v)\n",
    "fitted_xray_curr_182_1000v = xray_current_hypothesis(xray_intensity_continous, intensity_182_1000v, fitting_param_182_1000v)"
   ]
  },
  {
   "cell_type": "markdown",
   "metadata": {},
   "source": [
    "### 171 (01)"
   ]
  },
  {
   "cell_type": "code",
   "execution_count": null,
   "metadata": {},
   "outputs": [],
   "source": [
    "intensity_171_50v, intensity_err_171_50v, fitting_param_171_50v, fitting_param_err_171_50v = hypothesis_test_xray_intensity(\n",
    "    xray_intensity, xray_curr_171_50v, xray_curr_err_171_50v\n",
    ")\n",
    "\n",
    "intensity_171_200v, intensity_err_171_200v, fitting_param_171_200v, fitting_param_err_171_200v = hypothesis_test_xray_intensity(\n",
    "    xray_intensity, xray_curr_171_200v, xray_curr_err_171_200v\n",
    ")\n",
    "\n",
    "intensity_171_1000v, intensity_err_171_1000v, fitting_param_171_1000v, fitting_param_err_171_1000v = hypothesis_test_xray_intensity(\n",
    "    xray_intensity_short, xray_curr_171_1000v, xray_curr_err_171_1000v\n",
    ")\n",
    "\n",
    "intensity_171_neg_1000v, intensity_err_171_neg_1000v, fitting_param_171_neg_1000v, fitting_param_err_171_neg_1000v = hypothesis_test_xray_intensity(\n",
    "    xray_intensity_short, xray_curr_171_neg_1000v, xray_curr_err_171_neg_1000v\n",
    ")\n",
    "\n",
    "fitted_xray_curr_171_50v = xray_current_hypothesis(xray_intensity_continous, intensity_171_50v, fitting_param_171_50v)\n",
    "fitted_xray_curr_171_200v = xray_current_hypothesis(xray_intensity_continous, intensity_171_200v, fitting_param_171_200v)\n",
    "fitted_xray_curr_171_1000v = xray_current_hypothesis(xray_intensity_continous, intensity_171_1000v, fitting_param_171_1000v)\n",
    "fitted_xray_curr_171_neg_1000v = xray_current_hypothesis(xray_intensity_continous, intensity_171_neg_1000v, fitting_param_171_neg_1000v)"
   ]
  },
  {
   "cell_type": "markdown",
   "metadata": {},
   "source": [
    "### 178 (11)"
   ]
  },
  {
   "cell_type": "code",
   "execution_count": null,
   "metadata": {},
   "outputs": [],
   "source": [
    "intensity_178_50v, intensity_err_178_50v, fitting_param_178_50v, fitting_param_err_178_50v = hypothesis_test_xray_intensity(\n",
    "    xray_intensity, xray_curr_178_50v, xray_curr_err_178_50v\n",
    ")\n",
    "\n",
    "intensity_178_200v, intensity_err_178_200v, fitting_param_178_200v, fitting_param_err_178_200v = hypothesis_test_xray_intensity(\n",
    "    xray_intensity, xray_curr_178_200v, xray_curr_err_178_200v\n",
    ")\n",
    "\n",
    "intensity_178_1000v, intensity_err_178_1000v, fitting_param_178_1000v, fitting_param_err_178_1000v = hypothesis_test_xray_intensity(\n",
    "    xray_intensity_short, xray_curr_178_1000v, xray_curr_err_178_1000v\n",
    ")\n",
    "\n",
    "fitted_xray_curr_178_50v = xray_current_hypothesis(xray_intensity_continous, intensity_178_50v, fitting_param_178_50v)\n",
    "fitted_xray_curr_178_200v = xray_current_hypothesis(xray_intensity_continous, intensity_178_200v, fitting_param_178_200v)\n",
    "fitted_xray_curr_178_1000v = xray_current_hypothesis(xray_intensity_continous, intensity_178_1000v, fitting_param_178_1000v)"
   ]
  },
  {
   "cell_type": "markdown",
   "metadata": {},
   "source": [
    "## **Current vs Xray intensity Plots**"
   ]
  },
  {
   "cell_type": "code",
   "execution_count": null,
   "metadata": {},
   "outputs": [],
   "source": [
    "plt.errorbar(xray_intensity, xray_curr_178_50v, yerr=xray_curr_err_178_50v, ecolor=\"k\", label=r\"Caracas (178) ($\\Delta$ = \" + f\" = {fitting_param_178_50v:.2f} +/- {fitting_param_err_178_50v:.1g})\", c=\"green\", marker=\"x\", ls=\"\")\n",
    "plt.errorbar(xray_intensity, xray_curr_171_50v, yerr=xray_curr_err_171_50v, ecolor=\"k\",label=r\"Quito (171) ($\\Delta$ = \" + f\" = {fitting_param_171_50v:.3f} +/- {fitting_param_err_171_50v:.1g})\", c=\"blue\", marker=\"o\", ls=\"\")\n",
    "plt.errorbar(xray_intensity, xray_curr_182_50v, yerr=xray_curr_err_182_50v, ecolor=\"k\",label=r\"Amsterdam (182) ($\\Delta$ = \" + f\" = {fitting_param_182_50v:.3f} +/- {fitting_param_err_182_50v:.1g})\", c=\"purple\", marker=\"^\", ls=\"\")\n",
    "plt.errorbar(xray_intensity, xray_curr_183_50v, yerr=xray_curr_err_183_50v, ecolor=\"k\",label=r\"Reykjavik (183) ($\\Delta$ = \" + f\" = {fitting_param_183_50v:.3f} +/- {fitting_param_err_183_50v:.1g})\", c=\"red\", marker=\"v\", ls=\"\")\n",
    "\n",
    "plt.plot(xray_intensity_continous, fitted_xray_curr_178_50v, c=\"green\", ls=\"--\")\n",
    "plt.plot(xray_intensity_continous, fitted_xray_curr_171_50v, c=\"blue\", ls=\"--\")\n",
    "plt.plot(xray_intensity_continous, fitted_xray_curr_182_50v, c=\"purple\", ls=\"--\")\n",
    "plt.plot(xray_intensity_continous, fitted_xray_curr_183_50v, c=\"red\", ls=\"--\")\n",
    "\n",
    "plt.grid()\n",
    "plt.legend()\n",
    "plt.title(\"X-ray irradiation on Eris sCVD diamond detectors with 50V Bias\")\n",
    "plt.ylabel(\"Measured current, I (nA)\")\n",
    "plt.xlabel(r\"Xray intensity, I ($\\mu$A)\")\n",
    "plt.tight_layout()"
   ]
  },
  {
   "cell_type": "code",
   "execution_count": null,
   "metadata": {},
   "outputs": [],
   "source": [
    "fig, ax = plt.subplots()\n",
    "\n",
    "ax.errorbar(xray_intensity, xray_curr_178_200v, yerr=xray_curr_err_178_200v, ecolor=\"k\", label=r\"Caracas (178) ($\\Delta$ = \" + f\" = {fitting_param_178_200v:.3f} +/- {fitting_param_err_178_200v:.1g})\", c=\"green\", marker=\"x\", ls=\"\")\n",
    "ax.errorbar(xray_intensity, xray_curr_171_200v, yerr=xray_curr_err_171_200v, ecolor=\"k\",label=r\"Quito (171) ($\\Delta$ = \" + f\" = {fitting_param_171_200v:.3f} +/- {fitting_param_err_171_200v:.1g})\", c=\"blue\", marker=\"o\", ls=\"\")\n",
    "ax.errorbar(xray_intensity, xray_curr_182_200v, yerr=xray_curr_err_182_200v, ecolor=\"k\",label=r\"Amsterdam (182) ($\\Delta$ = \" + f\" = {fitting_param_182_200v:.3f} +/- {fitting_param_err_182_200v:.1g})\", c=\"purple\", marker=\"^\", ls=\"\")\n",
    "ax.errorbar(xray_intensity, xray_curr_183_200v, yerr=xray_curr_err_183_200v, ecolor=\"k\",label=r\"Reykjavik (183) ($\\Delta$ = \" + f\" = {fitting_param_183_200v:.3f} +/- {fitting_param_err_183_200v:.1g})\", c=\"red\", marker=\"v\", ls=\"\")\n",
    "\n",
    "ax.plot(xray_intensity_continous, fitted_xray_curr_178_200v, c=\"green\", ls=\"--\")\n",
    "ax.plot(xray_intensity_continous, fitted_xray_curr_171_200v, c=\"blue\", ls=\"--\")\n",
    "ax.plot(xray_intensity_continous, fitted_xray_curr_182_200v, c=\"purple\", ls=\"--\")\n",
    "ax.plot(xray_intensity_continous, fitted_xray_curr_183_200v, c=\"red\", ls=\"--\")\n",
    "\n",
    "ax.grid()\n",
    "ax.legend()\n",
    "ax.set_title(\"X-ray irradiation on Eris sCVD diamond detectors with 200V Bias\")\n",
    "ax.set_ylabel(\"Measured current, I (nA)\")\n",
    "ax.set_xlabel(r\"Xray intensity, I ($\\mu$A)\")\n",
    "fig.tight_layout()\n",
    "\n",
    "extent = (-3, 4, -4, 3)\n",
    "x1, x2, y1, y2 = 10.0, 70, 0.0, 170  # subregion of the original image\n",
    "axins = ax.inset_axes(\n",
    "    [0.35, 0.11, 0.63, 0.20],\n",
    "    xlim=(x1, x2), ylim=(y1, y2), xticklabels=[], yticklabels=[])\n",
    "axins.errorbar(xray_intensity, xray_curr_178_200v, yerr=xray_curr_err_178_200v, ecolor=\"k\", label=\"Caracas (178)\", c=\"green\", marker=\"x\", ls=\"\")\n",
    "axins.errorbar(xray_intensity, xray_curr_182_200v, yerr=xray_curr_err_182_200v, ecolor=\"k\",label=\"Amsterdam (182)\", c=\"purple\", marker=\"^\", ls=\"\")\n",
    "axins.errorbar(xray_intensity, xray_curr_183_200v, yerr=xray_curr_err_183_200v, ecolor=\"k\",label=\"Reykjavik (183)\", c=\"red\", marker=\"v\", ls=\"\")\n",
    "axins.plot(xray_intensity_continous, fitted_xray_curr_178_200v, c=\"green\", ls=\"--\")\n",
    "axins.plot(xray_intensity_continous, fitted_xray_curr_182_200v, c=\"purple\", ls=\"--\")\n",
    "axins.plot(xray_intensity_continous, fitted_xray_curr_183_200v, c=\"red\", ls=\"--\")\n",
    "\n",
    "ax.indicate_inset_zoom(axins, edgecolor=\"black\")"
   ]
  },
  {
   "cell_type": "code",
   "execution_count": null,
   "metadata": {},
   "outputs": [],
   "source": [
    "fig, ax = plt.subplots()\n",
    "\n",
    "ax.errorbar(xray_intensity_short, xray_curr_178_1000v, yerr=xray_curr_err_178_1000v, ecolor=\"k\", label=r\"Caracas (178) ($\\Delta$ = \" + f\" = {fitting_param_178_1000v:.3f} +/- {fitting_param_err_178_1000v:.1g})\", c=\"green\", marker=\"x\", ls=\"\")\n",
    "ax.errorbar(xray_intensity_short, xray_curr_171_1000v, yerr=xray_curr_err_171_1000v, ecolor=\"k\",label=r\"Quito (171) ($\\Delta$ = \" + f\" = {fitting_param_171_1000v:.2f} +/- {fitting_param_err_171_1000v:.1g})\", c=\"blue\", marker=\"o\", ls=\"\")\n",
    "ax.errorbar(xray_intensity_short, xray_curr_182_1000v, yerr=xray_curr_err_182_1000v, ecolor=\"k\",label=r\"Amsterdam (182) ($\\Delta$ = \" + f\" = {fitting_param_182_1000v:.4f} +/- {fitting_param_err_182_1000v:.1g})\", c=\"purple\", marker=\"^\", ls=\"\")\n",
    "ax.errorbar(xray_intensity_short, xray_curr_183_1000v, yerr=xray_curr_err_183_1000v, ecolor=\"k\",label=r\"Reykjavik (183) ($\\Delta$ = \" + f\" = {fitting_param_183_1000v:.2f} +/- {fitting_param_err_183_1000v:.1g})\", c=\"red\", marker=\"v\", ls=\"\")\n",
    "\n",
    "ax.plot(xray_intensity_continous, fitted_xray_curr_178_1000v, c=\"green\", ls=\"--\")\n",
    "ax.plot(xray_intensity_continous, fitted_xray_curr_171_1000v, c=\"blue\", ls=\"--\")\n",
    "ax.plot(xray_intensity_continous, fitted_xray_curr_182_1000v, c=\"purple\", ls=\"--\")\n",
    "ax.plot(xray_intensity_continous, fitted_xray_curr_183_1000v, c=\"red\", ls=\"--\")\n",
    "\n",
    "ax.grid()\n",
    "ax.legend()\n",
    "ax.set_title(\"X-ray irradiation on Eris sCVD diamond detectors with 1000V Bias\")\n",
    "ax.set_ylabel(\"Measured current, I (nA)\")\n",
    "ax.set_xlabel(r\"Xray intensity, I ($\\mu$A)\")\n",
    "fig.tight_layout()\n",
    "\n",
    "extent = (-3, 4, -4, 3)\n",
    "x1, x2, y1, y2 = -2.0, 73.0, -2.0, 200  # subregion of the original image\n",
    "axins = ax.inset_axes(\n",
    "    [0.35, 0.1, 0.63, 0.40],\n",
    "    xlim=(x1, x2), ylim=(y1, y2), xticklabels=[], yticklabels=[])\n",
    "axins.errorbar(xray_intensity_short, xray_curr_178_1000v, yerr=xray_curr_err_178_1000v, ecolor=\"k\",label=\"Caracas (178)\", c=\"green\", marker=\"x\", ls=\"\")\n",
    "axins.errorbar(xray_intensity_short, xray_curr_171_1000v, yerr=xray_curr_err_171_1000v, ecolor=\"k\",label=\"Quito (171)\", c=\"blue\", marker=\"x\", ls=\"\")\n",
    "axins.errorbar(xray_intensity_short, xray_curr_182_1000v, yerr=xray_curr_err_182_1000v, ecolor=\"k\",label=\"Amsterdam (182)\", c=\"purple\", marker=\"^\", ls=\"\")\n",
    "axins.errorbar(xray_intensity_short, xray_curr_183_1000v, yerr=xray_curr_err_183_1000v, ecolor=\"k\",label=\"Reykjavik (183)\", c=\"red\", marker=\"v\", ls=\"\" )\n",
    "axins.plot(xray_intensity_continous, fitted_xray_curr_178_1000v, c=\"green\", ls=\"--\")\n",
    "axins.plot(xray_intensity_continous, fitted_xray_curr_171_1000v, c=\"blue\", ls=\"--\")\n",
    "axins.plot(xray_intensity_continous, fitted_xray_curr_182_1000v, c=\"purple\", ls=\"--\")\n",
    "axins.plot(xray_intensity_continous, fitted_xray_curr_183_1000v, c=\"red\", ls=\"--\")\n",
    "\n",
    "ax.indicate_inset_zoom(axins, edgecolor=\"black\",)"
   ]
  },
  {
   "cell_type": "code",
   "execution_count": null,
   "metadata": {},
   "outputs": [],
   "source": [
    "# plt.errorbar(xray_intensity_short, xray_curr_171_neg_1000v, yerr=xray_curr_err_171_neg_1000v, ecolor=\"k\",label=\"Quito (171)\", c=\"blue\", marker=\"o\")\n",
    "# plt.errorbar(xray_intensity_short, xray_curr_183_neg_1000v, yerr=xray_curr_err_183_neg_1000v,ecolor=\"k\", label=\"Reykjavik (183)\", c=\"red\", marker=\"v\")\n",
    "\n",
    "plt.errorbar(xray_intensity_short, xray_curr_171_neg_1000v, yerr=xray_curr_err_171_neg_1000v, ecolor=\"k\",label=r\"Quito (171) ($\\Delta$ = \" + f\" = {fitting_param_171_neg_1000v:.2f} +/- {fitting_param_err_171_neg_1000v:.1g})\", c=\"blue\", marker=\"o\", ls=\"\")\n",
    "plt.errorbar(xray_intensity_short, xray_curr_183_neg_1000v, yerr=xray_curr_err_183_neg_1000v, ecolor=\"k\",label=r\"Reykjavik (183) ($\\Delta$ = \" + f\" = {fitting_param_183_neg_1000v:.2f} +/- {fitting_param_err_183_neg_1000v:.1g})\", c=\"red\", marker=\"v\", ls=\"\")\n",
    "\n",
    "plt.plot(xray_intensity_continous, fitted_xray_curr_171_neg_1000v, c=\"blue\", ls=\"--\")\n",
    "plt.plot(xray_intensity_continous, fitted_xray_curr_183_neg_1000v, c=\"red\", ls=\"--\")\n",
    "\n",
    "plt.grid()\n",
    "plt.legend()\n",
    "plt.title(\"X-ray irradiation on Eris sCVD diamond detectors with -1000V Bias\")\n",
    "plt.ylabel(\"Measured current, I (nA)\")\n",
    "plt.xlabel(r\"Xray intensity, I ($\\mu$A)\")\n",
    "plt.tight_layout()"
   ]
  },
  {
   "cell_type": "code",
   "execution_count": null,
   "metadata": {},
   "outputs": [],
   "source": [
    "fig, ((ax1, ax2), (ax3, ax4)) = plt.subplots(2, 2, figsize=(12, 8))\n",
    "\n",
    "ax1.errorbar(xray_intensity, xray_curr_183_50v, yerr=xray_curr_err_183_50v, ecolor=\"k\",label=r\"50v ($\\Delta$\" + f\" = {fitting_param_183_50v:.3f} +/- {fitting_param_err_183_50v:.1g})\", c=\"red\", marker=\"v\", ls=\"\", )\n",
    "ax1.errorbar(xray_intensity, xray_curr_183_200v, yerr=xray_curr_err_183_200v, ecolor=\"k\",label=r\"200v ($\\Delta$\" + f\" = {fitting_param_183_200v:.3f} +/- {fitting_param_err_183_200v:.1g})\", c=\"blue\", marker=\"o\", ls=\"\")\n",
    "ax1.errorbar(xray_intensity_short, xray_curr_183_1000v, yerr=xray_curr_err_183_1000v, ecolor=\"k\",label=r\"1000v ($\\Delta$\" + f\" = {fitting_param_183_1000v:.2f} +/- {fitting_param_err_183_1000v:.1g})\", c=\"green\", marker=\"x\", ls=\"\")\n",
    "ax1.plot(xray_intensity_continous, fitted_xray_curr_183_50v, c=\"red\", ls=\"--\")\n",
    "ax1.plot(xray_intensity_continous, fitted_xray_curr_183_200v, c=\"blue\", ls=\"--\")\n",
    "ax1.plot(xray_intensity_continous, fitted_xray_curr_183_1000v, c=\"green\", ls=\"--\")\n",
    "ax1.set_ylabel(\"Measured current, I (nA)\")\n",
    "ax1.set_xlabel(r\"Xray intensity, I ($\\mu$A)\")\n",
    "ax1.set_title(r\"Reykjavik (183)\")\n",
    "ax1.grid()\n",
    "ax1.legend()\n",
    "\n",
    "ax2.errorbar(xray_intensity, xray_curr_171_50v, yerr=xray_curr_err_171_50v, ecolor=\"k\",label=r\"50v ($\\Delta$\" + f\" = {fitting_param_171_50v:.3f} +/- {fitting_param_err_171_50v:.1g})\", c=\"red\", marker=\"v\", ls=\"\", )\n",
    "ax2.errorbar(xray_intensity, xray_curr_171_200v, yerr=xray_curr_err_171_200v, ecolor=\"k\",label=r\"200v ($\\Delta$\" + f\" = {fitting_param_171_200v:.3f} +/- {fitting_param_err_171_200v:.1g})\", c=\"blue\", marker=\"o\", ls=\"\")\n",
    "ax2.errorbar(xray_intensity_short, xray_curr_171_1000v, yerr=xray_curr_err_171_1000v, ecolor=\"k\",label=r\"1000v ($\\Delta$\" + f\" = {fitting_param_171_1000v:.2f} +/- {fitting_param_err_171_1000v:.1g})\", c=\"green\", marker=\"x\", ls=\"\")\n",
    "ax2.plot(xray_intensity_continous, fitted_xray_curr_171_50v, c=\"red\", ls=\"--\")\n",
    "ax2.plot(xray_intensity_continous, fitted_xray_curr_171_200v, c=\"blue\", ls=\"--\")\n",
    "ax2.plot(xray_intensity_continous, fitted_xray_curr_171_1000v, c=\"green\", ls=\"--\")\n",
    "ax2.set_ylabel(\"Measured current, I (nA)\")\n",
    "ax2.set_xlabel(r\"Xray intensity, I ($\\mu$A)\")\n",
    "ax2.set_title(r\"Quito (171)\")\n",
    "ax2.grid()\n",
    "ax2.legend()\n",
    "\n",
    "ax3.errorbar(xray_intensity, xray_curr_182_50v, yerr=xray_curr_err_182_50v, ecolor=\"k\",label=r\"50v ($\\Delta$\" + f\" = {fitting_param_182_50v:.3f} +/- {fitting_param_err_182_50v:.1g})\", c=\"red\", marker=\"v\", ls=\"\", )\n",
    "ax3.errorbar(xray_intensity, xray_curr_182_200v, yerr=xray_curr_err_182_200v, ecolor=\"k\",label=r\"200v ($\\Delta$\" + f\" = {fitting_param_182_200v:.3f} +/- {fitting_param_err_182_200v:.1g})\", c=\"blue\", marker=\"o\", ls=\"\")\n",
    "ax3.errorbar(xray_intensity_short, xray_curr_182_1000v, yerr=xray_curr_err_182_1000v, ecolor=\"k\",label=r\"1000v ($\\Delta$\" + f\" = {fitting_param_182_1000v:.4f} +/- {fitting_param_err_182_1000v:.1g})\", c=\"green\", marker=\"x\", ls=\"\")\n",
    "ax3.plot(xray_intensity_continous, fitted_xray_curr_182_50v, c=\"red\", ls=\"--\")\n",
    "ax3.plot(xray_intensity_continous, fitted_xray_curr_182_200v, c=\"blue\", ls=\"--\")\n",
    "ax3.plot(xray_intensity_continous, fitted_xray_curr_182_1000v, c=\"green\", ls=\"--\")\n",
    "ax3.set_ylabel(\"Measured current, I (nA)\")\n",
    "ax3.set_xlabel(r\"Xray intensity, I ($\\mu$A)\")\n",
    "ax3.set_title(r\"Amsterdam (182)\")\n",
    "ax3.grid()\n",
    "ax3.legend()\n",
    "\n",
    "ax4.errorbar(xray_intensity, xray_curr_178_50v, yerr=xray_curr_err_178_50v, ecolor=\"k\",label=r\"50v ($\\Delta$\" + f\" = {fitting_param_178_50v:.2f} +/- {fitting_param_err_178_50v:.1g})\", c=\"red\", marker=\"v\", ls=\"\", )\n",
    "ax4.errorbar(xray_intensity, xray_curr_178_200v, yerr=xray_curr_err_178_200v, ecolor=\"k\",label=r\"200v ($\\Delta$\" + f\" = {fitting_param_178_200v:.3f} +/- {fitting_param_err_178_200v:.1g})\", c=\"blue\", marker=\"o\", ls=\"\")\n",
    "ax4.errorbar(xray_intensity_short, xray_curr_178_1000v, yerr=xray_curr_err_178_1000v, ecolor=\"k\",label=r\"1000v ($\\Delta$\" + f\" = {fitting_param_178_1000v:.3f} +/- {fitting_param_err_178_1000v:.1g})\", c=\"green\", marker=\"x\", ls=\"\")\n",
    "ax4.plot(xray_intensity_continous, fitted_xray_curr_178_50v, c=\"red\", ls=\"--\")\n",
    "ax4.plot(xray_intensity_continous, fitted_xray_curr_178_200v, c=\"blue\", ls=\"--\")\n",
    "ax4.plot(xray_intensity_continous, fitted_xray_curr_178_1000v, c=\"green\", ls=\"--\")\n",
    "ax4.set_ylabel(\"Measured current, I (nA)\")\n",
    "ax4.set_xlabel(r\"Xray intensity, I ($\\mu$A)\")\n",
    "ax4.set_title(r\"Caracas (178)\")\n",
    "ax4.grid()\n",
    "ax4.legend()\n",
    "\n",
    "fig.tight_layout()\n",
    "fig.suptitle(\"X-ray irradiation on Eris sCVD diamond detectors\", y=1.02, fontsize=14)"
   ]
  },
  {
   "cell_type": "markdown",
   "metadata": {},
   "source": [
    "## **Xray HV linearity plots**"
   ]
  },
  {
   "cell_type": "code",
   "execution_count": null,
   "metadata": {},
   "outputs": [],
   "source": [
    "fig, ax1 = plt.subplots(1,1, )\n",
    "\n",
    "ax1.errorbar(xray_linearity_intensity, baseline_xray_curr_183_hv_linearity, yerr=baseline_xray_curr_err_183_hv_linearity, ecolor=\"k\",label=\"Reykjavik (183)\", c=\"red\", marker=\"v\", ls=\"-\", )\n",
    "ax1.errorbar(xray_linearity_intensity, baseline_xray_curr_171_hv_linearity, yerr=baseline_xray_curr_err_171_hv_linearity,ecolor=\"k\", label=\"Quito (171)\" ,c=\"green\", marker=\"^\", ls=\"-\", )\n",
    "ax1.errorbar(xray_linearity_intensity, baseline_xray_curr_182_hv_linearity, yerr=baseline_xray_curr_err_182_hv_linearity, ecolor=\"k\",c=\"purple\", label=\"Amsterdam (182)\", marker=\"o\", ls=\"-\", )\n",
    "ax1.errorbar(xray_linearity_intensity, baseline_xray_curr_178_hv_linearity, yerr=baseline_xray_curr_err_178_hv_linearity, ecolor=\"k\",label=\"Caracas (178)\", c=\"blue\", marker=\"x\", ls=\"-\", )\n",
    "ax1.set_ylabel(\"Measured current, I (nA)\")\n",
    "ax1.set_xlabel(r\"Bias voltage, V (V)\")\n",
    "ax1.grid()\n",
    "ax1.legend()\n",
    "fig.tight_layout()\n",
    "# ax1.set_ylim(0,0.2)\n",
    "fig.suptitle(\"X-ray linearity base current on Eris sCVD diamond detectors\", y=1.02, fontsize=14)"
   ]
  },
  {
   "cell_type": "code",
   "execution_count": null,
   "metadata": {},
   "outputs": [],
   "source": [
    "fig, ax = plt.subplots()\n",
    "\n",
    "\n",
    "ax.errorbar(xray_linearity_intensity, delta_xray_curr_183_hv_linearity, yerr=delta_xray_curr_err_183_hv_linearity, ecolor=\"k\",label=\"Reykjavik (183)\", c=\"red\", marker=\"v\", ls=\"-\", )\n",
    "ax.errorbar(xray_linearity_intensity, delta_xray_curr_171_hv_linearity, yerr=delta_xray_curr_err_171_hv_linearity, ecolor=\"k\",label=\"Quito (171)\" ,c=\"green\", marker=\"^\", ls=\"-\", )\n",
    "ax.errorbar(xray_linearity_intensity, delta_xray_curr_182_hv_linearity, yerr=delta_xray_curr_err_182_hv_linearity, c=\"purple\", ecolor=\"k\",label=\"Amsterdam (182)\", marker=\"o\", ls=\"-\", )\n",
    "ax.errorbar(xray_linearity_intensity, delta_xray_curr_178_hv_linearity, yerr=delta_xray_curr_err_178_hv_linearity, ecolor=\"k\",label=\"Caracas (178)\", c=\"blue\", marker=\"x\", ls=\"-\", )\n",
    "ax.set_ylabel(\"Measured current, I (nA)\")\n",
    "ax.set_xlabel(r\"Bias voltage, V (V)\")\n",
    "ax.grid()\n",
    "ax.legend()\n",
    "fig.tight_layout()\n",
    "fig.suptitle(\"X-ray linearity peak current on Eris sCVD diamond detectors\", y=1.02, fontsize=14)\n",
    "\n",
    "extent = (-3, 4, -4, 3)\n",
    "x1, x2, y1, y2 = -5.0, 1050, -2.0, 50  # subregion of the original image\n",
    "axins = ax.inset_axes(\n",
    "    [0.43, 0.1, 0.55, 0.40],\n",
    "    xlim=(x1, x2), ylim=(y1, y2), xticklabels=[], yticklabels=[])\n",
    "axins.errorbar(xray_linearity_intensity, delta_xray_curr_183_hv_linearity, yerr=delta_xray_curr_err_183_hv_linearity, ecolor=\"k\",label=\"Reykjavik (183)\", c=\"red\", marker=\"v\", ls=\"-\", )\n",
    "axins.errorbar(xray_linearity_intensity, delta_xray_curr_182_hv_linearity, yerr=delta_xray_curr_err_182_hv_linearity, c=\"purple\", ecolor=\"k\",label=\"Amsterdam (182)\", marker=\"o\", ls=\"-\", )\n",
    "axins.errorbar(xray_linearity_intensity, delta_xray_curr_178_hv_linearity, yerr=delta_xray_curr_err_178_hv_linearity, ecolor=\"k\",label=\"Caracas (178)\", c=\"blue\", marker=\"x\", ls=\"-\", )\n",
    "axins.errorbar(xray_linearity_intensity, delta_xray_curr_171_hv_linearity, yerr=delta_xray_curr_err_171_hv_linearity, ecolor=\"k\",label=\"Quito (171)\" ,c=\"green\", marker=\"^\", ls=\"-\", )\n",
    "\n",
    "ax.indicate_inset_zoom(axins, edgecolor=\"black\",)"
   ]
  }
 ],
 "metadata": {
  "kernelspec": {
   "display_name": "base",
   "language": "python",
   "name": "python3"
  },
  "language_info": {
   "codemirror_mode": {
    "name": "ipython",
    "version": 3
   },
   "file_extension": ".py",
   "mimetype": "text/x-python",
   "name": "python",
   "nbconvert_exporter": "python",
   "pygments_lexer": "ipython3",
   "version": "3.12.4"
  }
 },
 "nbformat": 4,
 "nbformat_minor": 2
}
