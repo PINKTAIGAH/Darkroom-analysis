{
 "cells": [
  {
   "cell_type": "markdown",
   "metadata": {},
   "source": [
    "# **Alpha Irradiation analysis**"
   ]
  },
  {
   "cell_type": "code",
   "execution_count": null,
   "metadata": {},
   "outputs": [],
   "source": [
    "import numpy as np\n",
    "import matplotlib.pyplot as plt\n",
    "from scipy.optimize import curve_fit\n",
    "from utils import *"
   ]
  },
  {
   "cell_type": "markdown",
   "metadata": {},
   "source": [
    "## **Notebook constants**"
   ]
  },
  {
   "cell_type": "code",
   "execution_count": null,
   "metadata": {},
   "outputs": [],
   "source": [
    "PLOT_RANGES = False\n",
    "DICT_KEYS = [\"0\", \"50\", \"200\"]\n",
    "\n",
    "delta_curr_dict = {key:{} for key in DICT_KEYS}\n",
    "delta_curr_err_dict = {key:{} for key in DICT_KEYS}\n",
    "\n",
    "baseline_curr_dict = {key:{} for key in DICT_KEYS}\n",
    "baseline_curr_err_dict = {key:{} for key in DICT_KEYS}\n",
    "\n",
    "time_const_dict = {key:{} for key in DICT_KEYS}\n",
    "time_const_err_dict = {key:{} for key in DICT_KEYS}"
   ]
  },
  {
   "cell_type": "code",
   "execution_count": null,
   "metadata": {},
   "outputs": [],
   "source": [
    "def process_current_irradiation_alpha(\n",
    "        time, mean_current, mean_current_err, voltage_idx, key, delta_curr_dict, delta_curr_err_dict,\n",
    "        baseline_curr_dict, baseline_curr_err_dict, time_const_dict=None, time_const_err_dict=None\n",
    "):\n",
    "    \n",
    "    for i, idxs  in enumerate(voltage_idx):\n",
    "\n",
    "        if len(idxs) == 2:\n",
    "            idx1, idx2, = idxs\n",
    "\n",
    "        elif len(idxs) == 4:\n",
    "            idx1, idx2, idx3, idx4 = idxs\n",
    "\n",
    "        elif len(idxs) == 6:\n",
    "            idx1, idx2, _, _, idx3, idx4 = idxs\n",
    "\n",
    "\n",
    "        if i==0:\n",
    "            base_curr, base_curr_err = hypothesis_test_uniform(\n",
    "                (idx1,idx2), time, mean_current, mean_current_err \n",
    "            )\n",
    "\n",
    "            delta_curr_dict[\"0\"][key] = base_curr\n",
    "            delta_curr_err_dict[\"0\"][key] = base_curr_err\n",
    "            baseline_curr_dict[\"0\"][key] = base_curr\n",
    "            baseline_curr_err_dict[\"0\"][key] = base_curr_err\n",
    "\n",
    "        if i==1:\n",
    "            base_curr, base_curr_err = hypothesis_test_uniform(\n",
    "                (idx1,idx2), time, mean_current, mean_current_err\n",
    "            )\n",
    "            peak_curr, peak_curr_err = hypothesis_test_uniform(\n",
    "                (idx3,idx4), time, mean_current, mean_current_err\n",
    "            )\n",
    "\n",
    "            delta_curr_dict[\"50\"][key] = abs(peak_curr)-abs(base_curr)\n",
    "            delta_curr_err_dict[\"50\"][key] = abs(peak_curr_err)+abs(base_curr_err)\n",
    "            baseline_curr_dict[\"50\"][key] = base_curr\n",
    "            baseline_curr_err_dict[\"50\"][key] = base_curr_err\n",
    "\n",
    "        if i==2:\n",
    "            base_curr, base_curr_err = hypothesis_test_uniform(\n",
    "                (idx1,idx2), time, mean_current, mean_current_err\n",
    "            )\n",
    "            peak_curr, peak_curr_err = hypothesis_test_uniform(\n",
    "                (idx3,idx4), time, mean_current, mean_current_err\n",
    "            )\n",
    "\n",
    "            delta_curr_dict[\"200\"][key] = abs(peak_curr)-abs(base_curr)\n",
    "            delta_curr_err_dict[\"200\"][key] = abs(peak_curr_err)+abs(base_curr_err)\n",
    "            baseline_curr_dict[\"200\"][key] = base_curr\n",
    "            baseline_curr_err_dict[\"200\"][key] = base_curr_err\n",
    "\n",
    "    return delta_curr_dict, delta_curr_err_dict, baseline_curr_dict, baseline_curr_err_dict"
   ]
  },
  {
   "cell_type": "markdown",
   "metadata": {},
   "source": [
    "## **Alpha HV linearity for all 4 diamonds**\n",
    "\n",
    "### All 4 diamonds with negative bias"
   ]
  },
  {
   "cell_type": "code",
   "execution_count": null,
   "metadata": {},
   "outputs": [],
   "source": [
    "run4_filedir = \"/Users/giorgio/Gsi_data/Eris_run004.txt\"\n",
    "\n",
    "time, voltage, mean_current, mean_current_err = load_data(run4_filedir)\n",
    "\n",
    "voltage_idx = [\n",
    "    (60, 230, 245, 281),\n",
    "    (685, 1390, 1453, 2510),\n",
    "    (3233, 4028, 4149, 5849),\n",
    "    (6843, 7578, 7694, 11500),\n",
    "    (12352, 13100, 13230, 14100),\n",
    "    (14353, 16123, 16218, 17390),\n",
    "    (17600, 17700, 17808, 18316),\n",
    "    (18680, 18980, 19000, 19200),\n",
    "]\n",
    "\n",
    "baseline_curr_neg, baseline_curr_err_neg, delta_curr_neg, delta_curr_err_neg = process_current_irradiation(\n",
    "    time, mean_current, mean_current_err, voltage_idx, use_abs=False\n",
    ")\n",
    "\n",
    "if PLOT_RANGES:\n",
    "    plot_irradiation_ranges(time, mean_current, voltage_idx)"
   ]
  },
  {
   "cell_type": "markdown",
   "metadata": {},
   "source": [
    "### All 4 diamonds with positive bias"
   ]
  },
  {
   "cell_type": "code",
   "execution_count": null,
   "metadata": {},
   "outputs": [],
   "source": [
    "run2_filedir = \"/Users/giorgio/Gsi_data/Eris_run002.txt\"\n",
    "\n",
    "time, voltage, mean_current, mean_current_err = load_data(run2_filedir)\n",
    "\n",
    "voltage_idx = [\n",
    "    (20, 80, 300, 500),\n",
    "    (737, 888, 927, 1724),\n",
    "    (2023, 2208, 2296, 3000),\n",
    "    (3364, 3751, 3842, 4723),\n",
    "    (5032, 5544, 5625, 6359),\n",
    "    (6648, 7105, 7459, 8100),\n",
    "    (8509, 8950, 9481, 10440),\n",
    "]\n",
    "\n",
    "baseline_curr_pos, baseline_curr_err_pos, delta_curr_pos, delta_curr_err_pos = process_current_irradiation(\n",
    "    time, mean_current, mean_current_err, voltage_idx, use_abs=False\n",
    ")\n",
    "\n",
    "if PLOT_RANGES:\n",
    "    plot_irradiation_ranges(time, mean_current, voltage_idx)"
   ]
  },
  {
   "cell_type": "markdown",
   "metadata": {},
   "source": [
    "## **Alpha HV linearity for individual diamonds**\n",
    "\n",
    "### 183 (00)"
   ]
  },
  {
   "cell_type": "code",
   "execution_count": null,
   "metadata": {},
   "outputs": [],
   "source": [
    "run14_filedir = \"/Users/giorgio/Gsi_data/Eris_run014.txt\"\n",
    "\n",
    "time, voltage, mean_current, mean_current_err = load_data(run14_filedir)\n",
    "\n",
    "voltage_idx = ( (15, 110), (200, 300, 370, 470), (700, 1402, 1605, 3424), ) \n",
    "\n",
    "key = \"183\"\n",
    "\n",
    "delta_curr_dict, delta_curr_err_dict, baseline_curr_dict, baseline_curr_err_dict = process_current_irradiation_alpha(\n",
    "    time, mean_current, mean_current_err, voltage_idx, key, delta_curr_dict, delta_curr_err_dict,\n",
    "    baseline_curr_dict, baseline_curr_err_dict,\n",
    ")\n",
    "\n",
    "if PLOT_RANGES:\n",
    "    plot_irradiation_ranges(time, mean_current, voltage_idx)"
   ]
  },
  {
   "cell_type": "markdown",
   "metadata": {},
   "source": [
    "### 182 (10)"
   ]
  },
  {
   "cell_type": "code",
   "execution_count": null,
   "metadata": {},
   "outputs": [],
   "source": [
    "run12_filedir = \"/Users/giorgio/Gsi_data/Eris_run012.txt\"\n",
    "\n",
    "time, voltage, mean_current, mean_current_err = load_data(run12_filedir)\n",
    "\n",
    "voltage_idx = ( \n",
    "    (29, 184), \n",
    "    (255, 346, 369, 1324, 1402, 2242), \n",
    "    (2533, 2676, 2739, 3669, 3750, 5117), \n",
    ")\n",
    "\n",
    "key = \"182\"\n",
    "\n",
    "delta_curr_dict, delta_curr_err_dict, baseline_curr_dict, baseline_curr_err_dict = process_current_irradiation_alpha(\n",
    "    time, mean_current, mean_current_err, voltage_idx, key, delta_curr_dict, delta_curr_err_dict,\n",
    "    baseline_curr_dict, baseline_curr_err_dict,\n",
    ")\n",
    "\n",
    "if PLOT_RANGES:\n",
    "    plot_irradiation_ranges(time, mean_current, voltage_idx)"
   ]
  },
  {
   "cell_type": "markdown",
   "metadata": {},
   "source": [
    "### 171 (01)"
   ]
  },
  {
   "cell_type": "code",
   "execution_count": null,
   "metadata": {},
   "outputs": [],
   "source": [
    "run16_filedir = \"/Users/giorgio/Gsi_data/Eris_run016.txt\"\n",
    "\n",
    "time, voltage, mean_current, mean_current_err = load_data(run16_filedir)\n",
    "\n",
    "voltage_idx = (\n",
    "    (16, 100, 240, 318,),\n",
    "    (423, 517, 550, 912, 1030, 1303), \n",
    "    (1726, 1979, 2027, 2503, 2832, 3561), \n",
    ")\n",
    "\n",
    "key = \"171\"\n",
    "\n",
    "delta_curr_dict, delta_curr_err_dict, baseline_curr_dict, baseline_curr_err_dict = process_current_irradiation_alpha(\n",
    "    time, mean_current, mean_current_err, voltage_idx, key, delta_curr_dict, delta_curr_err_dict,\n",
    "    baseline_curr_dict, baseline_curr_err_dict,\n",
    ")\n",
    "\n",
    "if PLOT_RANGES:\n",
    "    plot_irradiation_ranges(time, mean_current, voltage_idx)"
   ]
  },
  {
   "cell_type": "markdown",
   "metadata": {},
   "source": [
    "### 178 (11)"
   ]
  },
  {
   "cell_type": "code",
   "execution_count": null,
   "metadata": {},
   "outputs": [],
   "source": [
    "\n",
    "run15_filedir = \"/Users/giorgio/Gsi_data/Eris_run015.txt\"\n",
    "\n",
    "time, voltage, mean_current, mean_current_err = load_data(run15_filedir)\n",
    "\n",
    "voltage_idx = ( \n",
    "    (2, 123), \n",
    "    (588, 743, 800, 879), \n",
    "    (1816, 2011, 4137, 5363), \n",
    ")\n",
    "\n",
    "key = \"178\"\n",
    "\n",
    "delta_curr_dict, delta_curr_err_dict, baseline_curr_dict, baseline_curr_err_dict = process_current_irradiation_alpha(\n",
    "    time, mean_current, mean_current_err, voltage_idx, key, delta_curr_dict, delta_curr_err_dict,\n",
    "    baseline_curr_dict, baseline_curr_err_dict,\n",
    ")\n",
    "\n",
    "if PLOT_RANGES:\n",
    "    plot_irradiation_ranges(time, mean_current, voltage_idx)"
   ]
  },
  {
   "cell_type": "markdown",
   "metadata": {},
   "source": [
    "## **Alpha HV linearity for all 4 diamonds**\n"
   ]
  },
  {
   "cell_type": "code",
   "execution_count": null,
   "metadata": {},
   "outputs": [],
   "source": [
    "hv_neg = [0, -100, -200, -300, -400, -500, -700, -900]\n",
    "hv_pos = [0, 100, 200, 300, 400, 500, 600]\n",
    "\n",
    "plt.errorbar(hv_neg, 1e12*np.array(baseline_curr_neg), yerr=1e12*np.array(baseline_curr_err_neg), ecolor=\"k\", c=\"blue\", label=\"Negative Bias\", marker=\"v\")\n",
    "plt.errorbar(hv_pos, 1e12*np.array(baseline_curr_pos), yerr=1e12*np.array(baseline_curr_err_pos), ecolor=\"k\", c=\"red\", label=\"Positive Bias\", marker=\"^\")\n",
    "plt.title(\"Baseline current at different polarities\")\n",
    "plt.xlabel(\"Bias voltage, V (V)\")\n",
    "plt.ylabel(\"Out of source current, I (pA)\")\n",
    "plt.legend()\n",
    "plt.grid()"
   ]
  },
  {
   "cell_type": "code",
   "execution_count": null,
   "metadata": {},
   "outputs": [],
   "source": [
    "plt.errorbar(hv_neg, 1e12*np.array(delta_curr_neg), yerr=1e12*np.array(delta_curr_err_neg), ecolor=\"k\", c=\"blue\", label=\"Negative Bias\", marker=\"v\")\n",
    "plt.errorbar(hv_pos, 1e12*np.array(delta_curr_pos), yerr=1e12*np.array(delta_curr_err_pos), ecolor=\"k\", c=\"red\", label=\"Positive Bias\", marker=\"^\")\n",
    "plt.title(r\"$\\alpha$ induced current at different polarities\")\n",
    "plt.xlabel(\"Bias voltage, V (V)\")\n",
    "plt.ylabel(\"On source current, I (pA)\")\n",
    "plt.legend()\n",
    "plt.grid()"
   ]
  },
  {
   "cell_type": "markdown",
   "metadata": {},
   "source": [
    "## **Alpha HV linearity for individual diamonds**"
   ]
  },
  {
   "cell_type": "code",
   "execution_count": null,
   "metadata": {},
   "outputs": [],
   "source": [
    "key_color=[\"blue\", \"green\", \"purple\", \"red\"]\n",
    "key_marker=[\"v\", \"^\", \"o\", \"x\"]\n",
    "key_label = [ \"183 (Reykjavik)\", \"182 (Amsterdam)\", \"171 (Quito)\",  \"178 (Caracas)\",]\n",
    "hv_values = [50, 200]\n",
    "for idx, det in enumerate(delta_curr_dict[\"50\"].keys()):\n",
    "    plt.errorbar(hv_values,1e12*np.array([delta_curr_dict[str(key)][det] for key in hv_values]), yerr=1e12*np.array([delta_curr_err_dict[str(key)][det] for key in hv_values]), ecolor=\"k\", label=f\"key {key_label[idx]}\", c=key_color[idx], marker=key_marker[idx], ls=\"\")\n",
    "plt.legend()\n",
    "plt.xticks(hv_values)\n",
    "plt.ylabel(r\"Peak Current, I$_{\\alpha}$ (pA)\")\n",
    "plt.xlabel(r\"Bias voltage, V$_{bias}$ (V)\")\n",
    "plt.title(r\"$\\alpha$ induced current for individual detectors\", fontsize=14)\n",
    "plt.tight_layout()\n",
    "plt.grid(axis=\"y\")"
   ]
  },
  {
   "cell_type": "code",
   "execution_count": null,
   "metadata": {},
   "outputs": [],
   "source": [
    "for idx, det in enumerate(baseline_curr_dict[\"50\"].keys()):\n",
    "    plt.errorbar(hv_values,1e12*np.array([baseline_curr_dict[str(key)][det] for key in hv_values]), yerr=1e12*np.array([baseline_curr_err_dict[str(key)][det] for key in hv_values]), ecolor=\"k\", label=f\"key {key_label[idx]}\", c=key_color[idx], marker=key_marker[idx], ls=\"\")\n",
    "plt.legend()\n",
    "plt.xticks(hv_values)\n",
    "plt.ylabel(r\"Baseline Current, I$_{base}$ (pA)\")\n",
    "plt.xlabel(r\"Bias voltage, V$_{bias}$ (V)\")\n",
    "plt.title(r\"Baseline current for individual detectors\", fontsize=14)\n",
    "plt.tight_layout()\n",
    "plt.grid(axis=\"y\")"
   ]
  }
 ],
 "metadata": {
  "kernelspec": {
   "display_name": "base",
   "language": "python",
   "name": "python3"
  },
  "language_info": {
   "codemirror_mode": {
    "name": "ipython",
    "version": 3
   },
   "file_extension": ".py",
   "mimetype": "text/x-python",
   "name": "python",
   "nbconvert_exporter": "python",
   "pygments_lexer": "ipython3",
   "version": "3.12.2"
  }
 },
 "nbformat": 4,
 "nbformat_minor": 2
}
